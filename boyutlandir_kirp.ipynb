{
 "cells": [
  {
   "cell_type": "code",
   "execution_count": 2,
   "id": "33be4e44-300c-4f96-abae-379466f93ef6",
   "metadata": {},
   "outputs": [],
   "source": [
    "import cv2"
   ]
  },
  {
   "cell_type": "code",
   "execution_count": 3,
   "id": "e59ca770-d37a-4fd7-a5ef-6cc1a73aa675",
   "metadata": {},
   "outputs": [],
   "source": [
    "# Resmi İçeri Aktarma\n",
    "img = cv2.imread(filename='lenna.png')"
   ]
  },
  {
   "cell_type": "code",
   "execution_count": 4,
   "id": "fa307bc4-5540-4690-a675-c760514db437",
   "metadata": {},
   "outputs": [
    {
     "name": "stdout",
     "output_type": "stream",
     "text": [
      "Resim Boyutu:  (512, 512, 3)\n"
     ]
    }
   ],
   "source": [
    "print('Resim Boyutu: ', img.shape)"
   ]
  },
  {
   "cell_type": "code",
   "execution_count": 10,
   "id": "06cbbe05-b08f-4b61-8afb-ff9d8689b5aa",
   "metadata": {},
   "outputs": [],
   "source": [
    "cv2.imshow(winname='Lenna', mat=img)\n",
    "k = cv2.waitKey(0) & 0xFF\n",
    "\n",
    "if k == 27: # esc\n",
    "    cv2.destroyAllWindows()"
   ]
  },
  {
   "cell_type": "code",
   "execution_count": 6,
   "id": "136eaf88-e2b6-4fbb-8de7-946a474fdaed",
   "metadata": {},
   "outputs": [
    {
     "name": "stdout",
     "output_type": "stream",
     "text": [
      "Resized Img Shape:  (800, 800, 3)\n"
     ]
    }
   ],
   "source": [
    "imgResized = cv2.resize(src=img, dsize=(800, 800))\n",
    "print('Resized Img Shape: ', imgResized.shape)"
   ]
  },
  {
   "cell_type": "code",
   "execution_count": 7,
   "id": "75752667-d5d4-43ef-92d9-64de1c37f8f8",
   "metadata": {},
   "outputs": [
    {
     "data": {
      "text/plain": [
       "-1"
      ]
     },
     "execution_count": 7,
     "metadata": {},
     "output_type": "execute_result"
    }
   ],
   "source": [
    "cv2.imshow(winname='Img Resized', mat=imgResized)\n",
    "cv2.waitKey(0)"
   ]
  },
  {
   "cell_type": "code",
   "execution_count": 9,
   "id": "c3d8ca9b-aaec-4918-8d50-991b62f8116c",
   "metadata": {},
   "outputs": [
    {
     "data": {
      "text/plain": [
       "-1"
      ]
     },
     "execution_count": 9,
     "metadata": {},
     "output_type": "execute_result"
    }
   ],
   "source": [
    "# Kırpma işlemi\n",
    "imgCropped = img[:400, 0:500]\n",
    "cv2.imshow(winname='Cropped Img', mat=imgCropped)\n",
    "cv2.waitKey(0)"
   ]
  },
  {
   "cell_type": "code",
   "execution_count": 11,
   "id": "24b9331a-11a5-4ed0-8138-bb39f39f246a",
   "metadata": {},
   "outputs": [
    {
     "data": {
      "text/plain": [
       "-1"
      ]
     },
     "execution_count": 11,
     "metadata": {},
     "output_type": "execute_result"
    }
   ],
   "source": [
    "imgCropped1 = img[:200, 0:300]\n",
    "cv2.imshow(winname='Cropped Img 1', mat=imgCropped1)\n",
    "\n",
    "imgCropped2 = img[40:300, 100:400]\n",
    "cv2.imshow(winname='Cropped Img 2', mat=imgCropped2)\n",
    "\n",
    "cv2.waitKey(0)"
   ]
  },
  {
   "cell_type": "markdown",
   "id": "9943695b-4ea3-4d65-a816-7eda333b5a9a",
   "metadata": {
    "jp-MarkdownHeadingCollapsed": true,
    "tags": []
   },
   "source": [
    "## cv2.resize(src, dsize, fx, fy, interpolation)\n",
    "### src: Yeniden boyutlandırılacak görüntü. Bu parametre, Numpy dizisi olarak veya dosya yolunu belirterek geçirilebilir.\n",
    "### dsize: Hedef boyutu belirten bir tuple veya int değeri. Tuple olarak verildiğinde (width, height) şeklinde olmalıdır. İnt olarak verildiğinde, görüntünün yatay boyutu (width) korunurken dikey boyut (height) orantılı olarak ayarlanır.\n",
    "### fx: Yatay yönde ölçeklendirme faktörü. Float bir değer olarak verilir. Eğer 0 olursa, hedef boyut dikkate alınır.\n",
    "### fy: Dikey yönde ölçeklendirme faktörü. Float bir değer olarak verilir. Eğer 0 olursa, hedef boyut dikkate alınır.\n",
    "### interpolation: Yeniden boyutlandırma işlemi sırasında kullanılacak interpolasyon yöntemini belirten bir parametre. Bu parametre, farklı interpolasyon türleri için kullanılan sabitlerle birlikte kullanılabilir. Örneğin, cv2.INTER_NEAREST, cv2.INTER_LINEAR, cv2.INTER_CUBIC gibi."
   ]
  }
 ],
 "metadata": {
  "kernelspec": {
   "display_name": "Python 3 (ipykernel)",
   "language": "python",
   "name": "python3"
  },
  "language_info": {
   "codemirror_mode": {
    "name": "ipython",
    "version": 3
   },
   "file_extension": ".py",
   "mimetype": "text/x-python",
   "name": "python",
   "nbconvert_exporter": "python",
   "pygments_lexer": "ipython3",
   "version": "3.9.12"
  }
 },
 "nbformat": 4,
 "nbformat_minor": 5
}
